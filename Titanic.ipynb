{
 "cells": [
  {
   "cell_type": "code",
   "execution_count": 16,
   "metadata": {
    "collapsed": false
   },
   "outputs": [],
   "source": [
    "import pandas as pd\n",
    "import numpy as np\n",
    "\n",
    "train_url = 'data/train.csv'\n",
    "test_url = 'data/test.csv'\n",
    "\n",
    "train = pd.read_csv(train_url)\n",
    "test = pd.read_csv(test_url)"
   ]
  },
  {
   "cell_type": "code",
   "execution_count": 17,
   "metadata": {
    "collapsed": false
   },
   "outputs": [
    {
     "data": {
      "text/html": [
       "<div>\n",
       "<table border=\"1\" class=\"dataframe\">\n",
       "  <thead>\n",
       "    <tr style=\"text-align: right;\">\n",
       "      <th></th>\n",
       "      <th>PassengerId</th>\n",
       "      <th>Survived</th>\n",
       "      <th>Pclass</th>\n",
       "      <th>Name</th>\n",
       "      <th>Sex</th>\n",
       "      <th>Age</th>\n",
       "      <th>SibSp</th>\n",
       "      <th>Parch</th>\n",
       "      <th>Ticket</th>\n",
       "      <th>Fare</th>\n",
       "      <th>Cabin</th>\n",
       "      <th>Embarked</th>\n",
       "    </tr>\n",
       "  </thead>\n",
       "  <tbody>\n",
       "    <tr>\n",
       "      <th>0</th>\n",
       "      <td>1</td>\n",
       "      <td>0</td>\n",
       "      <td>3</td>\n",
       "      <td>Braund, Mr. Owen Harris</td>\n",
       "      <td>male</td>\n",
       "      <td>22.0</td>\n",
       "      <td>1</td>\n",
       "      <td>0</td>\n",
       "      <td>A/5 21171</td>\n",
       "      <td>7.2500</td>\n",
       "      <td>NaN</td>\n",
       "      <td>S</td>\n",
       "    </tr>\n",
       "    <tr>\n",
       "      <th>1</th>\n",
       "      <td>2</td>\n",
       "      <td>1</td>\n",
       "      <td>1</td>\n",
       "      <td>Cumings, Mrs. John Bradley (Florence Briggs Th...</td>\n",
       "      <td>female</td>\n",
       "      <td>38.0</td>\n",
       "      <td>1</td>\n",
       "      <td>0</td>\n",
       "      <td>PC 17599</td>\n",
       "      <td>71.2833</td>\n",
       "      <td>C85</td>\n",
       "      <td>C</td>\n",
       "    </tr>\n",
       "    <tr>\n",
       "      <th>2</th>\n",
       "      <td>3</td>\n",
       "      <td>1</td>\n",
       "      <td>3</td>\n",
       "      <td>Heikkinen, Miss. Laina</td>\n",
       "      <td>female</td>\n",
       "      <td>26.0</td>\n",
       "      <td>0</td>\n",
       "      <td>0</td>\n",
       "      <td>STON/O2. 3101282</td>\n",
       "      <td>7.9250</td>\n",
       "      <td>NaN</td>\n",
       "      <td>S</td>\n",
       "    </tr>\n",
       "    <tr>\n",
       "      <th>3</th>\n",
       "      <td>4</td>\n",
       "      <td>1</td>\n",
       "      <td>1</td>\n",
       "      <td>Futrelle, Mrs. Jacques Heath (Lily May Peel)</td>\n",
       "      <td>female</td>\n",
       "      <td>35.0</td>\n",
       "      <td>1</td>\n",
       "      <td>0</td>\n",
       "      <td>113803</td>\n",
       "      <td>53.1000</td>\n",
       "      <td>C123</td>\n",
       "      <td>S</td>\n",
       "    </tr>\n",
       "    <tr>\n",
       "      <th>4</th>\n",
       "      <td>5</td>\n",
       "      <td>0</td>\n",
       "      <td>3</td>\n",
       "      <td>Allen, Mr. William Henry</td>\n",
       "      <td>male</td>\n",
       "      <td>35.0</td>\n",
       "      <td>0</td>\n",
       "      <td>0</td>\n",
       "      <td>373450</td>\n",
       "      <td>8.0500</td>\n",
       "      <td>NaN</td>\n",
       "      <td>S</td>\n",
       "    </tr>\n",
       "  </tbody>\n",
       "</table>\n",
       "</div>"
      ],
      "text/plain": [
       "   PassengerId  Survived  Pclass  \\\n",
       "0            1         0       3   \n",
       "1            2         1       1   \n",
       "2            3         1       3   \n",
       "3            4         1       1   \n",
       "4            5         0       3   \n",
       "\n",
       "                                                Name     Sex   Age  SibSp  \\\n",
       "0                            Braund, Mr. Owen Harris    male  22.0      1   \n",
       "1  Cumings, Mrs. John Bradley (Florence Briggs Th...  female  38.0      1   \n",
       "2                             Heikkinen, Miss. Laina  female  26.0      0   \n",
       "3       Futrelle, Mrs. Jacques Heath (Lily May Peel)  female  35.0      1   \n",
       "4                           Allen, Mr. William Henry    male  35.0      0   \n",
       "\n",
       "   Parch            Ticket     Fare Cabin Embarked  \n",
       "0      0         A/5 21171   7.2500   NaN        S  \n",
       "1      0          PC 17599  71.2833   C85        C  \n",
       "2      0  STON/O2. 3101282   7.9250   NaN        S  \n",
       "3      0            113803  53.1000  C123        S  \n",
       "4      0            373450   8.0500   NaN        S  "
      ]
     },
     "execution_count": 17,
     "metadata": {},
     "output_type": "execute_result"
    }
   ],
   "source": [
    "train.head()"
   ]
  },
  {
   "cell_type": "code",
   "execution_count": 18,
   "metadata": {
    "collapsed": false
   },
   "outputs": [],
   "source": [
    "train['Gender'] = train['Sex'].map({'male':1, 'female':0})\n",
    "test['Gender'] = test['Sex'].map({'male':1, 'female':0})"
   ]
  },
  {
   "cell_type": "code",
   "execution_count": 19,
   "metadata": {
    "collapsed": false
   },
   "outputs": [
    {
     "name": "stderr",
     "output_type": "stream",
     "text": [
      "/Users/mac/tensorflow/lib/python2.7/site-packages/ipykernel/__main__.py:4: SettingWithCopyWarning: \n",
      "A value is trying to be set on a copy of a slice from a DataFrame\n",
      "\n",
      "See the caveats in the documentation: http://pandas.pydata.org/pandas-docs/stable/indexing.html#indexing-view-versus-copy\n",
      "/Users/mac/tensorflow/lib/python2.7/site-packages/ipykernel/__main__.py:5: SettingWithCopyWarning: \n",
      "A value is trying to be set on a copy of a slice from a DataFrame\n",
      "\n",
      "See the caveats in the documentation: http://pandas.pydata.org/pandas-docs/stable/indexing.html#indexing-view-versus-copy\n"
     ]
    }
   ],
   "source": [
    "for i in range(2):\n",
    "    for j in range(1,4):\n",
    "        median = train['Age'][(train['Gender'] == i) & (train['Pclass'] == j)].median()\n",
    "        train['Age'][(train['Gender'] == i) & (train['Pclass'] == j)] = \\\n",
    "        train['Age'][(train['Gender'] == i) & (train['Pclass'] == j)].fillna(median)\n",
    "        test['Age'][(test['Gender'] == i) & (test['Pclass'] == j)] = \\\n",
    "        test['Age'][(test['Gender'] == i) & (test['Pclass'] == j)].fillna(median)"
   ]
  },
  {
   "cell_type": "code",
   "execution_count": 20,
   "metadata": {
    "collapsed": true
   },
   "outputs": [],
   "source": [
    "train['Grade'] = train['Embarked'].map({'S': 1, 'C': 2, 'Q': 3})\n",
    "train['Grade'] = train['Grade'].fillna(0.0)\n",
    "test['Grade'] = test['Embarked'].map({'S': 1, 'C': 2, 'Q': 3})\n",
    "test['Grade'] = test['Grade'].fillna(0.0)"
   ]
  },
  {
   "cell_type": "code",
   "execution_count": 21,
   "metadata": {
    "collapsed": false,
    "scrolled": true
   },
   "outputs": [],
   "source": [
    "train = train.drop(['PassengerId', 'Sex', 'Name', 'Ticket', 'Cabin', 'Embarked'], 1)\n",
    "test = test.drop(['Sex', 'Name', 'Ticket', 'Cabin', 'Embarked'], 1)"
   ]
  },
  {
   "cell_type": "markdown",
   "metadata": {},
   "source": [
    "Prepare the data for cross validation"
   ]
  },
  {
   "cell_type": "code",
   "execution_count": 22,
   "metadata": {
    "collapsed": true
   },
   "outputs": [],
   "source": [
    "from sklearn.cross_validation import cross_val_score\n"
   ]
  },
  {
   "cell_type": "code",
   "execution_count": 23,
   "metadata": {
    "collapsed": false
   },
   "outputs": [
    {
     "name": "stdout",
     "output_type": "stream",
     "text": [
      "[ 0.78787879  0.8013468   0.77104377]\n",
      "[ 0.78787879  0.8013468   0.77104377]\n",
      "[ 0.78787879  0.8013468   0.77104377]\n"
     ]
    }
   ],
   "source": [
    "from sklearn import tree\n",
    "from sklearn.ensemble import RandomForestClassifier\n",
    "from sklearn.svm import SVC\n",
    "\n",
    "from sklearn.metrics import accuracy_score\n",
    "\n",
    "\n",
    "clf_1 = tree.ExtraTreeClassifier()\n",
    "clf_2 = RandomForestClassifier(random_state=1, n_estimators=100, min_samples_split=4, min_samples_leaf=2)\n",
    "clf_3 = SVC()\n",
    "\n",
    "# 1st attempt: Sex\n",
    "fields = ['Gender']\n",
    "print cross_val_score(clf_1, train[fields], train['Survived'])\n",
    "print cross_val_score(clf_2, train[fields], train['Survived'])\n",
    "print cross_val_score(clf_3, train[fields], train['Survived'])"
   ]
  },
  {
   "cell_type": "code",
   "execution_count": 24,
   "metadata": {
    "collapsed": false
   },
   "outputs": [
    {
     "name": "stdout",
     "output_type": "stream",
     "text": [
      "[ 0.75757576  0.8013468   0.77104377]\n",
      "[ 0.75757576  0.8013468   0.77104377]\n",
      "[ 0.75757576  0.8013468   0.77104377]\n"
     ]
    }
   ],
   "source": [
    "# 2nd attempt: Sex, Pclass\n",
    "fields = ['Gender', 'Pclass']\n",
    "print cross_val_score(clf_1, train[fields], train['Survived'])\n",
    "print cross_val_score(clf_2, train[fields], train['Survived'])\n",
    "print cross_val_score(clf_3, train[fields], train['Survived'])"
   ]
  },
  {
   "cell_type": "code",
   "execution_count": 25,
   "metadata": {
    "collapsed": false
   },
   "outputs": [
    {
     "name": "stdout",
     "output_type": "stream",
     "text": [
      "[ 0.73737374  0.81481481  0.81818182]\n",
      "[ 0.74410774  0.81481481  0.80808081]\n",
      "[ 0.75420875  0.8013468   0.77104377]\n"
     ]
    }
   ],
   "source": [
    "# 3rd attempt: Sex, Pclass, Age\n",
    "fields = ['Gender', 'Pclass', 'Fare']\n",
    "print cross_val_score(clf_1, train[fields], train['Survived'])\n",
    "print cross_val_score(clf_2, train[fields], train['Survived'])\n",
    "print cross_val_score(clf_3, train[fields], train['Survived'])"
   ]
  },
  {
   "cell_type": "code",
   "execution_count": 26,
   "metadata": {
    "collapsed": false
   },
   "outputs": [
    {
     "name": "stdout",
     "output_type": "stream",
     "text": [
      "[ 0.76430976  0.80808081  0.7979798 ]\n",
      "[ 0.8013468   0.83164983  0.81818182]\n",
      "[ 0.78787879  0.82828283  0.82491582]\n"
     ]
    }
   ],
   "source": [
    "# 4th attempt: Sex, Pclass, Age, SibSp\n",
    "fields = ['Gender', 'Pclass', 'Age', 'SibSp']\n",
    "print cross_val_score(clf_1, train[fields], train['Survived'])\n",
    "print cross_val_score(clf_2, train[fields], train['Survived'])\n",
    "print cross_val_score(clf_3, train[fields], train['Survived'])"
   ]
  },
  {
   "cell_type": "code",
   "execution_count": 27,
   "metadata": {
    "collapsed": false
   },
   "outputs": [
    {
     "name": "stdout",
     "output_type": "stream",
     "text": [
      "[ 0.76094276  0.81144781  0.75420875]\n",
      "[ 0.79124579  0.83838384  0.83164983]\n",
      "[ 0.77777778  0.82828283  0.82491582]\n"
     ]
    }
   ],
   "source": [
    "# 5th attempt: Sex, Pclass, Age, SibSp, Parch\n",
    "fields = ['Gender', 'Pclass', 'Age', 'SibSp', 'Parch']\n",
    "print cross_val_score(clf_1, train[fields], train['Survived'])\n",
    "print cross_val_score(clf_2, train[fields], train['Survived'])\n",
    "print cross_val_score(clf_3, train[fields], train['Survived'])"
   ]
  },
  {
   "cell_type": "code",
   "execution_count": 28,
   "metadata": {
    "collapsed": false
   },
   "outputs": [
    {
     "name": "stdout",
     "output_type": "stream",
     "text": [
      "[ 0.75757576  0.75757576  0.76767677]\n",
      "[ 0.79461279  0.85185185  0.84175084]\n",
      "[ 0.68013468  0.71380471  0.74074074]\n"
     ]
    }
   ],
   "source": [
    "# 6th attempt: Sex, Pclass, Age, SibSp, Parch, Fare\n",
    "fields = ['Gender', 'Pclass', 'Age', 'SibSp', 'Parch', 'Fare']\n",
    "print cross_val_score(clf_1, train[fields], train['Survived'])\n",
    "print cross_val_score(clf_2, train[fields], train['Survived'])\n",
    "print cross_val_score(clf_3, train[fields], train['Survived'])"
   ]
  },
  {
   "cell_type": "code",
   "execution_count": 29,
   "metadata": {
    "collapsed": false
   },
   "outputs": [
    {
     "name": "stdout",
     "output_type": "stream",
     "text": [
      "[ 0.75084175  0.8013468   0.74747475]\n",
      "[ 0.8013468   0.84175084  0.82828283]\n",
      "[ 0.67340067  0.71043771  0.71717172]\n"
     ]
    }
   ],
   "source": [
    "# 7th attempt: Sex, Pclass, Age, SibSp, Parch, Fare, Embarked\n",
    "fields = ['Gender', 'Pclass', 'Age', 'SibSp', 'Parch', 'Fare', 'Grade']\n",
    "print cross_val_score(clf_1, train[fields], train['Survived'])\n",
    "print cross_val_score(clf_2, train[fields], train['Survived'])\n",
    "print cross_val_score(clf_3, train[fields], train['Survived'])"
   ]
  },
  {
   "cell_type": "code",
   "execution_count": 30,
   "metadata": {
    "collapsed": false
   },
   "outputs": [
    {
     "data": {
      "text/plain": [
       "RandomForestClassifier(bootstrap=True, class_weight=None, criterion='gini',\n",
       "            max_depth=None, max_features='auto', max_leaf_nodes=None,\n",
       "            min_samples_leaf=2, min_samples_split=4,\n",
       "            min_weight_fraction_leaf=0.0, n_estimators=100, n_jobs=1,\n",
       "            oob_score=False, random_state=1, verbose=0, warm_start=False)"
      ]
     },
     "execution_count": 30,
     "metadata": {},
     "output_type": "execute_result"
    }
   ],
   "source": [
    "clf_2.fit(train[fields], train['Survived'])"
   ]
  },
  {
   "cell_type": "code",
   "execution_count": 31,
   "metadata": {
    "collapsed": false
   },
   "outputs": [
    {
     "name": "stderr",
     "output_type": "stream",
     "text": [
      "/Users/mac/tensorflow/lib/python2.7/site-packages/ipykernel/__main__.py:1: SettingWithCopyWarning: \n",
      "A value is trying to be set on a copy of a slice from a DataFrame\n",
      "\n",
      "See the caveats in the documentation: http://pandas.pydata.org/pandas-docs/stable/indexing.html#indexing-view-versus-copy\n",
      "  if __name__ == '__main__':\n"
     ]
    }
   ],
   "source": [
    "test['Fare'][test['Fare'].isnull()] = test['Fare'][test['Pclass'] == 3].median()\n"
   ]
  },
  {
   "cell_type": "code",
   "execution_count": 32,
   "metadata": {
    "collapsed": false
   },
   "outputs": [],
   "source": [
    "test['Survived'] = clf_2.predict(test[fields])"
   ]
  },
  {
   "cell_type": "code",
   "execution_count": 33,
   "metadata": {
    "collapsed": false
   },
   "outputs": [],
   "source": [
    "test[['PassengerId', 'Survived']].to_csv('result.csv', index=False)"
   ]
  },
  {
   "cell_type": "code",
   "execution_count": null,
   "metadata": {
    "collapsed": true
   },
   "outputs": [],
   "source": []
  }
 ],
 "metadata": {
  "kernelspec": {
   "display_name": "Python 2",
   "language": "python",
   "name": "python2"
  },
  "language_info": {
   "codemirror_mode": {
    "name": "ipython",
    "version": 2
   },
   "file_extension": ".py",
   "mimetype": "text/x-python",
   "name": "python",
   "nbconvert_exporter": "python",
   "pygments_lexer": "ipython2",
   "version": "2.7.10"
  }
 },
 "nbformat": 4,
 "nbformat_minor": 0
}
